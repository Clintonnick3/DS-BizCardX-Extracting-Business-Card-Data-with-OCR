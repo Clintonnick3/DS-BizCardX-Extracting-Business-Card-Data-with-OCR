# Installing Necessary Libraries
!pip install easyocr           # extract text from images.
!pip install streamlit         # to create interactive web applications.
!pip install sqlalchemy        # framework for working with databases in Python.
!pip install pymysql           # MySQL database connector.
!pip install opencv-python     # image processing and computer vision tasks.
!pip install pytesseract       # text extraction from images.
!pip install pyngrok           # Tunneling from local server to internet safely.
!pip install ipykernel         # IPython kernel in Jupyter notebooks.
!pip install pandas            # creating dataframe
!pip install easyocr Pillow    # Python Imaging Library (PIL) and is used for working with images in Python.
